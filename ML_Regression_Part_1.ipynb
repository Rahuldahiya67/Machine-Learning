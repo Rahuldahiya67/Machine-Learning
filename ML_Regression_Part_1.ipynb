{
  "nbformat": 4,
  "nbformat_minor": 0,
  "metadata": {
    "colab": {
      "provenance": []
    },
    "kernelspec": {
      "name": "python3",
      "display_name": "Python 3"
    },
    "language_info": {
      "name": "python"
    }
  },
  "cells": [
    {
      "cell_type": "markdown",
      "source": [
        "#Correlation Using SciPy Function"
      ],
      "metadata": {
        "id": "z4M8RS8F8pvC"
      }
    },
    {
      "cell_type": "code",
      "execution_count": 1,
      "metadata": {
        "id": "-5YJCDEC8YzU"
      },
      "outputs": [],
      "source": [
        "import scipy.stats\n",
        "import numpy as np\n"
      ]
    },
    {
      "cell_type": "code",
      "source": [
        "a = np.zeros([15,2])\n",
        "a[:,0] = np.array([5,2,4,4,3,5,2,2,4,2,4,4,4,4,3])\n",
        "a[:,1] = np.array([3,2,5,3,2,6,1,2,5,2,3,4,3,3,4])\n"
      ],
      "metadata": {
        "id": "pFNTvvrg894a"
      },
      "execution_count": 2,
      "outputs": []
    },
    {
      "cell_type": "code",
      "source": [
        "r, p = scipy.stats.pearsonr(a[:,0], a[:,1])\n",
        "print('r=',round(r,3),'@',round(p,3),'level of significance')\n"
      ],
      "metadata": {
        "colab": {
          "base_uri": "https://localhost:8080/"
        },
        "id": "4bHT7kVm9E23",
        "outputId": "51bb6e04-1dcb-42be-cad9-188fa216765a"
      },
      "execution_count": 3,
      "outputs": [
        {
          "output_type": "stream",
          "name": "stdout",
          "text": [
            "r= 0.716 @ 0.003 level of significance\n"
          ]
        }
      ]
    },
    {
      "cell_type": "markdown",
      "source": [
        "#Linear regression - Using statsmodels / ols\n"
      ],
      "metadata": {
        "id": "2wHo8Aai9PtX"
      }
    },
    {
      "cell_type": "code",
      "source": [
        "import pandas as pd\n"
      ],
      "metadata": {
        "id": "NiChPvGn9J3f"
      },
      "execution_count": 4,
      "outputs": []
    },
    {
      "cell_type": "code",
      "source": [
        "from statsmodels.formula.api import ols\n"
      ],
      "metadata": {
        "id": "g35fp4R79UbE"
      },
      "execution_count": 5,
      "outputs": []
    },
    {
      "cell_type": "code",
      "source": [
        "d  = pd.DataFrame()\n"
      ],
      "metadata": {
        "id": "W4HviN_w9W4L"
      },
      "execution_count": 6,
      "outputs": []
    },
    {
      "cell_type": "code",
      "source": [
        "d['project_plan'] = [5,2,4,4,3,5,2,2,4,2,4,4,4,4,3]\n",
        "d['project_outcome'] = [3,2,5,3,2,6,1,2,5,2,3,4,3,3,4]\n"
      ],
      "metadata": {
        "id": "Eirs_dts9ZZP"
      },
      "execution_count": 7,
      "outputs": []
    },
    {
      "cell_type": "code",
      "source": [
        "#ols linear regression (y, x)\n",
        "m = ols(\"project_outcome ~ project_plan\", data=d).fit()\n"
      ],
      "metadata": {
        "id": "3CFpcYPY9cK-"
      },
      "execution_count": 9,
      "outputs": []
    },
    {
      "cell_type": "code",
      "source": [
        "# Predict Project Outcome score based on the rating for Project Planning\n",
        "m.predict(d.project_plan) \n"
      ],
      "metadata": {
        "colab": {
          "base_uri": "https://localhost:8080/"
        },
        "id": "XGcZaeb39veH",
        "outputId": "98b8f5a4-6578-422c-ea02-96c6eabf54d0"
      },
      "execution_count": 10,
      "outputs": [
        {
          "output_type": "execute_result",
          "data": {
            "text/plain": [
              "0     4.622881\n",
              "1     1.838983\n",
              "2     3.694915\n",
              "3     3.694915\n",
              "4     2.766949\n",
              "5     4.622881\n",
              "6     1.838983\n",
              "7     1.838983\n",
              "8     3.694915\n",
              "9     1.838983\n",
              "10    3.694915\n",
              "11    3.694915\n",
              "12    3.694915\n",
              "13    3.694915\n",
              "14    2.766949\n",
              "dtype: float64"
            ]
          },
          "metadata": {},
          "execution_count": 10
        }
      ]
    },
    {
      "cell_type": "code",
      "source": [
        "m.rsquared_adj   # adjusted R2\t"
      ],
      "metadata": {
        "colab": {
          "base_uri": "https://localhost:8080/"
        },
        "id": "pqeftGf19wZk",
        "outputId": "d1f888a7-5d44-4fd4-c034-d8889ace2466"
      },
      "execution_count": 11,
      "outputs": [
        {
          "output_type": "execute_result",
          "data": {
            "text/plain": [
              "0.4757467109162026"
            ]
          },
          "metadata": {},
          "execution_count": 11
        }
      ]
    },
    {
      "cell_type": "code",
      "source": [
        "m.fvalue      # F statistic\n"
      ],
      "metadata": {
        "colab": {
          "base_uri": "https://localhost:8080/"
        },
        "id": "oWMUsJKY90FU",
        "outputId": "7517c9ee-f3f8-4d1c-a895-bedb80f2e9dc"
      },
      "execution_count": 12,
      "outputs": [
        {
          "output_type": "execute_result",
          "data": {
            "text/plain": [
              "13.704648862512366"
            ]
          },
          "metadata": {},
          "execution_count": 12
        }
      ]
    },
    {
      "cell_type": "code",
      "source": [
        "m.f_pvalue    #Probability of F statistic \n"
      ],
      "metadata": {
        "colab": {
          "base_uri": "https://localhost:8080/"
        },
        "id": "uanqRkYI96k6",
        "outputId": "6e3338db-09e3-4e01-f2e6-7943501b4db2"
      },
      "execution_count": 13,
      "outputs": [
        {
          "output_type": "execute_result",
          "data": {
            "text/plain": [
              "0.0026599897765116577"
            ]
          },
          "metadata": {},
          "execution_count": 13
        }
      ]
    },
    {
      "cell_type": "code",
      "source": [
        "m.tvalues     # The significance of independent variable, project planning\n"
      ],
      "metadata": {
        "colab": {
          "base_uri": "https://localhost:8080/"
        },
        "id": "8s_F4Ilz9-sS",
        "outputId": "0122d84d-630c-4188-fbef-fcbaab2e255f"
      },
      "execution_count": 14,
      "outputs": [
        {
          "output_type": "execute_result",
          "data": {
            "text/plain": [
              "Intercept      -0.018705\n",
              "project_plan    3.701979\n",
              "dtype: float64"
            ]
          },
          "metadata": {},
          "execution_count": 14
        }
      ]
    }
  ]
}