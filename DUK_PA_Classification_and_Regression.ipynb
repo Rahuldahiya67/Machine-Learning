{
  "nbformat": 4,
  "nbformat_minor": 0,
  "metadata": {
    "colab": {
      "provenance": []
    },
    "kernelspec": {
      "name": "python3",
      "display_name": "Python 3"
    },
    "language_info": {
      "name": "python"
    }
  },
  "cells": [
    {
      "cell_type": "markdown",
      "source": [
        "#Name-Rahul\n",
        "###Email - rahul.ds22@duk.ac.in\n",
        "###Roll.no-223043\n",
        "###Group: DA05"
      ],
      "metadata": {
        "id": "TcOvd98Hsuhs"
      }
    },
    {
      "cell_type": "markdown",
      "source": [
        "# TUTORIAL 5 - Classification and Regression"
      ],
      "metadata": {
        "id": "5AzUSOitUVql"
      }
    },
    {
      "cell_type": "markdown",
      "source": [
        "## Tutorial 5.1 Correlation Using SciPy Function "
      ],
      "metadata": {
        "id": "8w8XlH6fS5vS"
      }
    },
    {
      "cell_type": "code",
      "source": [
        "# imports two packages, scipy.stats and numpy\n",
        "import scipy.stats\n",
        "import numpy as np\n",
        "#creates a 15x2 array called a using the np.zeros\n",
        "a = np.zeros([15,2])\n",
        "a[:,0] = np.array([5,2,4,4,3,5,2,2,4,2,4,4,4,4,3])\n",
        "a[:,1] = np.array([3,2,5,3,2,6,1,2,5,2,3,4,3,3,4])\n",
        "#computes the Pearson correlation coefficient and p-value between the two columns of the array\n",
        "r, p = scipy.stats.pearsonr(a[:,0], a[:,1])\n",
        "print('r=',round(r,3),'@',round(p,3),'level of significance')\n",
        "\n",
        "#calculating and printing the correlation and significance level between two sets of data represented in a numpy array.\n",
        "\n"
      ],
      "metadata": {
        "colab": {
          "base_uri": "https://localhost:8080/"
        },
        "id": "6kWW0BcOS_h4",
        "outputId": "ffca980a-8558-4777-afaf-a8ecf141e65d"
      },
      "execution_count": 70,
      "outputs": [
        {
          "output_type": "stream",
          "name": "stdout",
          "text": [
            "r= 0.716 @ 0.003 level of significance\n"
          ]
        }
      ]
    },
    {
      "cell_type": "markdown",
      "source": [
        "## Tutorial 5.2 Linear regression - Using statsmodels / ols"
      ],
      "metadata": {
        "id": "SqwfbzB9TTii"
      }
    },
    {
      "cell_type": "code",
      "source": [
        "#imports two packages, pandas and statsmodels.\n",
        "import pandas as pd\n",
        "#ols function to perform ordinary least squares\n",
        "from statsmodels.formula.api import ols\n",
        "\n",
        "#This code imports the pandas and statsmodels packages.\n",
        "#pandas is imported as pd, while ols is imported from statsmodels.formula.api.\n",
        "#The ols function is used to perform ordinary least squares regression analysis, which is a technique used to analyze the relationship between two or more variables."
      ],
      "metadata": {
        "id": "V5FGugseTYFq"
      },
      "execution_count": 74,
      "outputs": []
    },
    {
      "cell_type": "code",
      "source": [
        "\"\"\"\n",
        "This code creates a DataFrame called d using the pd.DataFrame() function.\n",
        "Two columns are added to d called project_plan and project_outcome, and values are inserted into these columns.\n",
        "\n",
        "Then, the ols function from the statsmodels.formula.api module is used to fit a linear regression model to the data.\n",
        "The formula \"project_outcome ~ project_plan\" specifies that the project_outcome variable is the dependent variable, \n",
        "and the project_plan variable is the independent variable.\n",
        "\n",
        "The data parameter of the ols function is set to d, which means that the regression analysis will be performed on \n",
        "the project_plan and project_outcome columns of the d DataFrame.\n",
        "\n",
        "The fit() method is then called on the ols object, which fits the linear regression model to the data and returns \n",
        "a RegressionResults object called m.\n",
        "\n",
        "Finally, the predict() method is called on m with the project_plan column of d as an argument. This method returns \n",
        "an array of predicted values for project_outcome based on the linear regression model.\n",
        "\"\"\"\n",
        "\n",
        "#create a dataframe\n",
        "d  = pd.DataFrame()\n",
        "#inserting values into dataframe\n",
        "d['project_plan'] = [5,2,4,4,3,5,2,2,4,2,4,4,4,4,3]\n",
        "d['project_outcome'] = [3,2,5,3,2,6,1,2,5,2,3,4,3,3,4]\n",
        "#fits a linear regression model using the ols function\n",
        "m = ols(\"project_outcome ~ project_plan\", data=d).fit()\n",
        "#returns an array of predicted values for project_outcome based on the linear regression model.\n",
        "m.predict(d.project_plan) \n"
      ],
      "metadata": {
        "colab": {
          "base_uri": "https://localhost:8080/"
        },
        "id": "5gjloXwHkD4d",
        "outputId": "eca95eec-20c8-437f-b2ed-89778428e2f9"
      },
      "execution_count": 78,
      "outputs": [
        {
          "output_type": "execute_result",
          "data": {
            "text/plain": [
              "0     4.622881\n",
              "1     1.838983\n",
              "2     3.694915\n",
              "3     3.694915\n",
              "4     2.766949\n",
              "5     4.622881\n",
              "6     1.838983\n",
              "7     1.838983\n",
              "8     3.694915\n",
              "9     1.838983\n",
              "10    3.694915\n",
              "11    3.694915\n",
              "12    3.694915\n",
              "13    3.694915\n",
              "14    2.766949\n",
              "dtype: float64"
            ]
          },
          "metadata": {},
          "execution_count": 78
        }
      ]
    },
    {
      "cell_type": "code",
      "source": [
        "#retrieves the adjusted R-squared value of the fitted linear regression model m\n",
        "m.rsquared_adj "
      ],
      "metadata": {
        "colab": {
          "base_uri": "https://localhost:8080/"
        },
        "id": "4T6qkzMEU5a4",
        "outputId": "06fa6a78-4e8b-43ad-f776-a87b29fc7897"
      },
      "execution_count": 25,
      "outputs": [
        {
          "output_type": "execute_result",
          "data": {
            "text/plain": [
              "0.4757467109162026"
            ]
          },
          "metadata": {},
          "execution_count": 25
        }
      ]
    },
    {
      "cell_type": "code",
      "source": [
        "#retrieves f value\n",
        "m.fvalue "
      ],
      "metadata": {
        "colab": {
          "base_uri": "https://localhost:8080/"
        },
        "id": "sgQGNX20VBIK",
        "outputId": "64c3afab-8217-43ea-ffa6-f67f7fec0cb3"
      },
      "execution_count": 26,
      "outputs": [
        {
          "output_type": "execute_result",
          "data": {
            "text/plain": [
              "13.704648862512366"
            ]
          },
          "metadata": {},
          "execution_count": 26
        }
      ]
    },
    {
      "cell_type": "code",
      "source": [
        "#retrives p value\n",
        "m.f_pvalue"
      ],
      "metadata": {
        "colab": {
          "base_uri": "https://localhost:8080/"
        },
        "id": "eja6kNvhVDhG",
        "outputId": "50f88032-6fbb-471d-faf8-bebd163005e7"
      },
      "execution_count": 27,
      "outputs": [
        {
          "output_type": "execute_result",
          "data": {
            "text/plain": [
              "0.0026599897765116577"
            ]
          },
          "metadata": {},
          "execution_count": 27
        }
      ]
    },
    {
      "cell_type": "code",
      "source": [
        "#retrieves the t-values associated with the coefficients of the fitted linear regression model\n",
        "m.tvalues "
      ],
      "metadata": {
        "colab": {
          "base_uri": "https://localhost:8080/"
        },
        "id": "lmcnVP3wVFmT",
        "outputId": "3d5de571-5a14-44d3-b7fd-05aed4ff432d"
      },
      "execution_count": 28,
      "outputs": [
        {
          "output_type": "execute_result",
          "data": {
            "text/plain": [
              "Intercept      -0.018705\n",
              "project_plan    3.701979\n",
              "dtype: float64"
            ]
          },
          "metadata": {},
          "execution_count": 28
        }
      ]
    },
    {
      "cell_type": "markdown",
      "source": [
        "## Tutorial 5.3 Detailed Regression Analysis – Using statsmodels / OLS\n"
      ],
      "metadata": {
        "id": "V9Pe1yV7VLtf"
      }
    },
    {
      "cell_type": "code",
      "source": [
        "from google.colab import files\n",
        "uploaded = files.upload()\n",
        "\n",
        "#importing local file to Colab"
      ],
      "metadata": {
        "colab": {
          "base_uri": "https://localhost:8080/",
          "height": 73
        },
        "id": "t6VeJB29g1Mg",
        "outputId": "f01d7588-4100-42f3-b609-ee517c555a4c"
      },
      "execution_count": 79,
      "outputs": [
        {
          "output_type": "display_data",
          "data": {
            "text/plain": [
              "<IPython.core.display.HTML object>"
            ],
            "text/html": [
              "\n",
              "     <input type=\"file\" id=\"files-08bc05fe-c54b-4eeb-bfb1-5402b753d3b1\" name=\"files[]\" multiple disabled\n",
              "        style=\"border:none\" />\n",
              "     <output id=\"result-08bc05fe-c54b-4eeb-bfb1-5402b753d3b1\">\n",
              "      Upload widget is only available when the cell has been executed in the\n",
              "      current browser session. Please rerun this cell to enable.\n",
              "      </output>\n",
              "      <script>// Copyright 2017 Google LLC\n",
              "//\n",
              "// Licensed under the Apache License, Version 2.0 (the \"License\");\n",
              "// you may not use this file except in compliance with the License.\n",
              "// You may obtain a copy of the License at\n",
              "//\n",
              "//      http://www.apache.org/licenses/LICENSE-2.0\n",
              "//\n",
              "// Unless required by applicable law or agreed to in writing, software\n",
              "// distributed under the License is distributed on an \"AS IS\" BASIS,\n",
              "// WITHOUT WARRANTIES OR CONDITIONS OF ANY KIND, either express or implied.\n",
              "// See the License for the specific language governing permissions and\n",
              "// limitations under the License.\n",
              "\n",
              "/**\n",
              " * @fileoverview Helpers for google.colab Python module.\n",
              " */\n",
              "(function(scope) {\n",
              "function span(text, styleAttributes = {}) {\n",
              "  const element = document.createElement('span');\n",
              "  element.textContent = text;\n",
              "  for (const key of Object.keys(styleAttributes)) {\n",
              "    element.style[key] = styleAttributes[key];\n",
              "  }\n",
              "  return element;\n",
              "}\n",
              "\n",
              "// Max number of bytes which will be uploaded at a time.\n",
              "const MAX_PAYLOAD_SIZE = 100 * 1024;\n",
              "\n",
              "function _uploadFiles(inputId, outputId) {\n",
              "  const steps = uploadFilesStep(inputId, outputId);\n",
              "  const outputElement = document.getElementById(outputId);\n",
              "  // Cache steps on the outputElement to make it available for the next call\n",
              "  // to uploadFilesContinue from Python.\n",
              "  outputElement.steps = steps;\n",
              "\n",
              "  return _uploadFilesContinue(outputId);\n",
              "}\n",
              "\n",
              "// This is roughly an async generator (not supported in the browser yet),\n",
              "// where there are multiple asynchronous steps and the Python side is going\n",
              "// to poll for completion of each step.\n",
              "// This uses a Promise to block the python side on completion of each step,\n",
              "// then passes the result of the previous step as the input to the next step.\n",
              "function _uploadFilesContinue(outputId) {\n",
              "  const outputElement = document.getElementById(outputId);\n",
              "  const steps = outputElement.steps;\n",
              "\n",
              "  const next = steps.next(outputElement.lastPromiseValue);\n",
              "  return Promise.resolve(next.value.promise).then((value) => {\n",
              "    // Cache the last promise value to make it available to the next\n",
              "    // step of the generator.\n",
              "    outputElement.lastPromiseValue = value;\n",
              "    return next.value.response;\n",
              "  });\n",
              "}\n",
              "\n",
              "/**\n",
              " * Generator function which is called between each async step of the upload\n",
              " * process.\n",
              " * @param {string} inputId Element ID of the input file picker element.\n",
              " * @param {string} outputId Element ID of the output display.\n",
              " * @return {!Iterable<!Object>} Iterable of next steps.\n",
              " */\n",
              "function* uploadFilesStep(inputId, outputId) {\n",
              "  const inputElement = document.getElementById(inputId);\n",
              "  inputElement.disabled = false;\n",
              "\n",
              "  const outputElement = document.getElementById(outputId);\n",
              "  outputElement.innerHTML = '';\n",
              "\n",
              "  const pickedPromise = new Promise((resolve) => {\n",
              "    inputElement.addEventListener('change', (e) => {\n",
              "      resolve(e.target.files);\n",
              "    });\n",
              "  });\n",
              "\n",
              "  const cancel = document.createElement('button');\n",
              "  inputElement.parentElement.appendChild(cancel);\n",
              "  cancel.textContent = 'Cancel upload';\n",
              "  const cancelPromise = new Promise((resolve) => {\n",
              "    cancel.onclick = () => {\n",
              "      resolve(null);\n",
              "    };\n",
              "  });\n",
              "\n",
              "  // Wait for the user to pick the files.\n",
              "  const files = yield {\n",
              "    promise: Promise.race([pickedPromise, cancelPromise]),\n",
              "    response: {\n",
              "      action: 'starting',\n",
              "    }\n",
              "  };\n",
              "\n",
              "  cancel.remove();\n",
              "\n",
              "  // Disable the input element since further picks are not allowed.\n",
              "  inputElement.disabled = true;\n",
              "\n",
              "  if (!files) {\n",
              "    return {\n",
              "      response: {\n",
              "        action: 'complete',\n",
              "      }\n",
              "    };\n",
              "  }\n",
              "\n",
              "  for (const file of files) {\n",
              "    const li = document.createElement('li');\n",
              "    li.append(span(file.name, {fontWeight: 'bold'}));\n",
              "    li.append(span(\n",
              "        `(${file.type || 'n/a'}) - ${file.size} bytes, ` +\n",
              "        `last modified: ${\n",
              "            file.lastModifiedDate ? file.lastModifiedDate.toLocaleDateString() :\n",
              "                                    'n/a'} - `));\n",
              "    const percent = span('0% done');\n",
              "    li.appendChild(percent);\n",
              "\n",
              "    outputElement.appendChild(li);\n",
              "\n",
              "    const fileDataPromise = new Promise((resolve) => {\n",
              "      const reader = new FileReader();\n",
              "      reader.onload = (e) => {\n",
              "        resolve(e.target.result);\n",
              "      };\n",
              "      reader.readAsArrayBuffer(file);\n",
              "    });\n",
              "    // Wait for the data to be ready.\n",
              "    let fileData = yield {\n",
              "      promise: fileDataPromise,\n",
              "      response: {\n",
              "        action: 'continue',\n",
              "      }\n",
              "    };\n",
              "\n",
              "    // Use a chunked sending to avoid message size limits. See b/62115660.\n",
              "    let position = 0;\n",
              "    do {\n",
              "      const length = Math.min(fileData.byteLength - position, MAX_PAYLOAD_SIZE);\n",
              "      const chunk = new Uint8Array(fileData, position, length);\n",
              "      position += length;\n",
              "\n",
              "      const base64 = btoa(String.fromCharCode.apply(null, chunk));\n",
              "      yield {\n",
              "        response: {\n",
              "          action: 'append',\n",
              "          file: file.name,\n",
              "          data: base64,\n",
              "        },\n",
              "      };\n",
              "\n",
              "      let percentDone = fileData.byteLength === 0 ?\n",
              "          100 :\n",
              "          Math.round((position / fileData.byteLength) * 100);\n",
              "      percent.textContent = `${percentDone}% done`;\n",
              "\n",
              "    } while (position < fileData.byteLength);\n",
              "  }\n",
              "\n",
              "  // All done.\n",
              "  yield {\n",
              "    response: {\n",
              "      action: 'complete',\n",
              "    }\n",
              "  };\n",
              "}\n",
              "\n",
              "scope.google = scope.google || {};\n",
              "scope.google.colab = scope.google.colab || {};\n",
              "scope.google.colab._files = {\n",
              "  _uploadFiles,\n",
              "  _uploadFilesContinue,\n",
              "};\n",
              "})(self);\n",
              "</script> "
            ]
          },
          "metadata": {}
        },
        {
          "output_type": "stream",
          "name": "stdout",
          "text": [
            "Saving itprojects.csv to itprojects (1).csv\n"
          ]
        }
      ]
    },
    {
      "cell_type": "code",
      "source": [
        "#Data Setup\n",
        "import pandas as pd\n",
        "d=pd.read_csv('itprojects.csv')\n",
        "#calls column names\n",
        "d.columns\n"
      ],
      "metadata": {
        "colab": {
          "base_uri": "https://localhost:8080/"
        },
        "id": "a5DG1_zKVeIz",
        "outputId": "cb5f5d5d-d290-4215-f32d-d063de70cc8e"
      },
      "execution_count": 56,
      "outputs": [
        {
          "output_type": "execute_result",
          "data": {
            "text/plain": [
              "Index(['Case_No', 'change_mgmt', 'project_plan', 'tech_mentoring', 'pm_tools',\n",
              "       'dev_process', 'system_arch', 'design_think', 'team_skills',\n",
              "       'core_team', 'prior_exp', 'rewards_recog', 'project_type',\n",
              "       'project_perf'],\n",
              "      dtype='object')"
            ]
          },
          "metadata": {},
          "execution_count": 56
        }
      ]
    },
    {
      "cell_type": "code",
      "source": [
        "#setup independent variables\n",
        "X = d[['change_mgmt', 'project_plan', 'tech_mentoring', 'pm_tools', \n",
        "       'dev_process', 'system_arch', 'design_think', 'team_skills', \n",
        "       'core_team', 'prior_exp', 'rewards_recog']]\n"
      ],
      "metadata": {
        "id": "Z6HhxvPLbawE"
      },
      "execution_count": 57,
      "outputs": []
    },
    {
      "cell_type": "markdown",
      "source": [
        "## Tutorial 5.3.2 The Distribution of the Feature Variables (X) "
      ],
      "metadata": {
        "id": "YSK6pe2TbJ6y"
      }
    },
    {
      "cell_type": "code",
      "source": [
        "#both libraries are used to plot graphs\n",
        "import matplotlib.pyplot as plt\n",
        "import seaborn as sb\n",
        "#  both matplotlib.pyplot and seaborn are useful tools for visualizing data in Python, and they can be used together to create powerful and informative visualizations.\n"
      ],
      "metadata": {
        "id": "JdOYE-h-XAyT"
      },
      "execution_count": 80,
      "outputs": []
    },
    {
      "cell_type": "code",
      "source": [
        "\"\"\"\n",
        "This code creates a kernel density estimate (KDE) plot using the seaborn (sb) library and matplotlib.pyplot (plt).\n",
        "\n",
        "The kdeplot() function from seaborn is used to plot the distribution of the data in the X variable.The parameter \n",
        "data is set to X, which is assumed to be a pandas DataFrame or a numpy array.\n",
        "\n",
        "The xlabel() and ylabel() functions from matplotlib.pyplot are used to label the x and y axes of the plot with\n",
        "'variable rating' and 'probability density', respectively.\n",
        "\n",
        "The title() function is used to set the title of the plot to 'KDE plot of independent variables' with a font size \n",
        "of 10.\n",
        "\n",
        "Finally, the show() function from matplotlib.pyplot is used to display the plot.\n",
        "\"\"\"\n",
        "\n",
        "sb.kdeplot(data=X)\n",
        "plt.xlabel('variable rating')\n",
        "plt.ylabel('probability density')\n",
        "plt.title ('KDE plot of independent variables', size=10)\n",
        "plt.show()\n"
      ],
      "metadata": {
        "colab": {
          "base_uri": "https://localhost:8080/",
          "height": 312
        },
        "id": "tlIujTeHoU_-",
        "outputId": "f9df5bfa-2720-4f42-d0dc-04db04204d53"
      },
      "execution_count": 82,
      "outputs": [
        {
          "output_type": "display_data",
          "data": {
            "text/plain": [
              "<Figure size 432x288 with 1 Axes>"
            ],
            "image/png": "[encoded data removed]"
          },
          "metadata": {}
        }
      ]
    },
    {
      "cell_type": "markdown",
      "source": [
        "#  Tutorial 5.3.3 Linear Regression (using OLS)\n"
      ],
      "metadata": {
        "id": "gHJ1C5Mub7jx"
      }
    },
    {
      "cell_type": "code",
      "source": [
        "import statsmodels.api as sm  \n",
        "#Data Setup\n",
        "d=pd.read_csv(\"/content/itprojects.csv\")\n",
        "#calls column names\n",
        "d.columns\n",
        "\n"
      ],
      "metadata": {
        "colab": {
          "base_uri": "https://localhost:8080/"
        },
        "id": "a1T_OWS4bTPW",
        "outputId": "bf304cf1-dee5-401f-d381-b5d0284a39a2"
      },
      "execution_count": 83,
      "outputs": [
        {
          "output_type": "execute_result",
          "data": {
            "text/plain": [
              "Index(['Case_No', 'change_mgmt', 'project_plan', 'tech_mentoring', 'pm_tools',\n",
              "       'dev_process', 'system_arch', 'design_think', 'team_skills',\n",
              "       'core_team', 'prior_exp', 'rewards_recog', 'project_type',\n",
              "       'project_perf'],\n",
              "      dtype='object')"
            ]
          },
          "metadata": {},
          "execution_count": 83
        }
      ]
    },
    {
      "cell_type": "code",
      "source": [
        "X=d[['change_mgmt', 'project_plan', 'tech_mentoring', 'pm_tools',\n",
        "       'dev_process', 'system_arch', 'design_think', 'team_skills',\n",
        "       'core_team', 'prior_exp', 'rewards_recog']]"
      ],
      "metadata": {
        "id": "aqHKonqFtKe6"
      },
      "execution_count": 60,
      "outputs": []
    },
    {
      "cell_type": "code",
      "source": [
        "# Add a column of constants, as a place holder for intercept\n",
        "X['intercept'] = 1  \n",
        "# the dependent variable is project performance\n",
        "y = d.project_perf \n",
        "#discard missing value if any\n",
        "model = sm.OLS(y,X,missing='drop') \n",
        "result=model.fit()\n",
        "round(result.f_pvalue,3) # 0.0 p-value of F test\n",
        "\n"
      ],
      "metadata": {
        "colab": {
          "base_uri": "https://localhost:8080/"
        },
        "id": "WfV8_aD0tX6f",
        "outputId": "a163dced-2884-47b6-f515-1f6c3872a727"
      },
      "execution_count": 61,
      "outputs": [
        {
          "output_type": "stream",
          "name": "stderr",
          "text": [
            "<ipython-input-61-70c3c7bc4f73>:2: SettingWithCopyWarning: \n",
            "A value is trying to be set on a copy of a slice from a DataFrame.\n",
            "Try using .loc[row_indexer,col_indexer] = value instead\n",
            "\n",
            "See the caveats in the documentation: https://pandas.pydata.org/pandas-docs/stable/user_guide/indexing.html#returning-a-view-versus-a-copy\n",
            "  X['intercept'] = 1\n"
          ]
        },
        {
          "output_type": "execute_result",
          "data": {
            "text/plain": [
              "0.0"
            ]
          },
          "metadata": {},
          "execution_count": 61
        }
      ]
    },
    {
      "cell_type": "code",
      "source": [
        "round(result.pvalues,3)  # p-value of t-Tests, last one is intercept"
      ],
      "metadata": {
        "colab": {
          "base_uri": "https://localhost:8080/"
        },
        "id": "DFPy2H1ct5qE",
        "outputId": "15144b0e-4068-41c9-9c52-f5f608c0c6d0"
      },
      "execution_count": 62,
      "outputs": [
        {
          "output_type": "execute_result",
          "data": {
            "text/plain": [
              "change_mgmt       0.359\n",
              "project_plan      0.000\n",
              "tech_mentoring    0.008\n",
              "pm_tools          0.614\n",
              "dev_process       0.734\n",
              "system_arch       0.899\n",
              "design_think      0.771\n",
              "team_skills       0.005\n",
              "core_team         0.033\n",
              "prior_exp         0.149\n",
              "rewards_recog     0.243\n",
              "intercept         0.000\n",
              "dtype: float64"
            ]
          },
          "metadata": {},
          "execution_count": 62
        }
      ]
    },
    {
      "cell_type": "code",
      "source": [
        "result.rsquared_adj #since value>0.5, variation explained by the model"
      ],
      "metadata": {
        "colab": {
          "base_uri": "https://localhost:8080/"
        },
        "id": "w_3CJyPWdIBd",
        "outputId": "e132788b-8e10-4366-f80a-7df8eddab74d"
      },
      "execution_count": 63,
      "outputs": [
        {
          "output_type": "execute_result",
          "data": {
            "text/plain": [
              "0.5356789942420455"
            ]
          },
          "metadata": {},
          "execution_count": 63
        }
      ]
    },
    {
      "cell_type": "code",
      "source": [
        "result.params #coefficients of independent variables"
      ],
      "metadata": {
        "colab": {
          "base_uri": "https://localhost:8080/"
        },
        "id": "jc1IBdKsdT0g",
        "outputId": "0e9287d8-397c-421e-a3c1-457704220ba3"
      },
      "execution_count": 64,
      "outputs": [
        {
          "output_type": "execute_result",
          "data": {
            "text/plain": [
              "change_mgmt       0.082152\n",
              "project_plan      0.679649\n",
              "tech_mentoring    0.266363\n",
              "pm_tools          0.055683\n",
              "dev_process       0.046456\n",
              "system_arch       0.018967\n",
              "design_think      0.040867\n",
              "team_skills       0.332597\n",
              "core_team         0.292540\n",
              "prior_exp        -0.227997\n",
              "rewards_recog     0.106306\n",
              "intercept        -7.294942\n",
              "dtype: float64"
            ]
          },
          "metadata": {},
          "execution_count": 64
        }
      ]
    },
    {
      "cell_type": "code",
      "source": [
        "result.summary()"
      ],
      "metadata": {
        "colab": {
          "base_uri": "https://localhost:8080/",
          "height": 665
        },
        "id": "7k3_u0ckdWrc",
        "outputId": "1611eedc-9bf8-459a-a22d-b46c65c812aa"
      },
      "execution_count": 65,
      "outputs": [
        {
          "output_type": "execute_result",
          "data": {
            "text/plain": [
              "<class 'statsmodels.iolib.summary.Summary'>\n",
              "\"\"\"\n",
              "                            OLS Regression Results                            \n",
              "==============================================================================\n",
              "Dep. Variable:           project_perf   R-squared:                       0.587\n",
              "Model:                            OLS   Adj. R-squared:                  0.536\n",
              "Method:                 Least Squares   F-statistic:                     11.38\n",
              "Date:                Thu, 23 Mar 2023   Prob (F-statistic):           7.49e-13\n",
              "Time:                        17:29:59   Log-Likelihood:                -97.646\n",
              "No. Observations:                 100   AIC:                             219.3\n",
              "Df Residuals:                      88   BIC:                             250.6\n",
              "Df Model:                          11                                         \n",
              "Covariance Type:            nonrobust                                         \n",
              "==================================================================================\n",
              "                     coef    std err          t      P>|t|      [0.025      0.975]\n",
              "----------------------------------------------------------------------------------\n",
              "change_mgmt        0.0822      0.089      0.922      0.359      -0.095       0.259\n",
              "project_plan       0.6796      0.091      7.458      0.000       0.499       0.861\n",
              "tech_mentoring     0.2664      0.098      2.710      0.008       0.071       0.462\n",
              "pm_tools           0.0557      0.110      0.506      0.614      -0.163       0.274\n",
              "dev_process        0.0465      0.137      0.340      0.734      -0.225       0.318\n",
              "system_arch        0.0190      0.149      0.127      0.899      -0.278       0.316\n",
              "design_think       0.0409      0.140      0.292      0.771      -0.237       0.319\n",
              "team_skills        0.3326      0.115      2.904      0.005       0.105       0.560\n",
              "core_team          0.2925      0.135      2.165      0.033       0.024       0.561\n",
              "prior_exp         -0.2280      0.157     -1.455      0.149      -0.539       0.083\n",
              "rewards_recog      0.1063      0.090      1.176      0.243      -0.073       0.286\n",
              "intercept         -7.2949      1.088     -6.706      0.000      -9.457      -5.133\n",
              "==============================================================================\n",
              "Omnibus:                       10.101   Durbin-Watson:                   1.782\n",
              "Prob(Omnibus):                  0.006   Jarque-Bera (JB):                3.660\n",
              "Skew:                          -0.086   Prob(JB):                        0.160\n",
              "Kurtosis:                       2.079   Cond. No.                         241.\n",
              "==============================================================================\n",
              "\n",
              "Notes:\n",
              "[1] Standard Errors assume that the covariance matrix of the errors is correctly specified.\n",
              "\"\"\""
            ],
            "text/html": [
              "<table class=\"simpletable\">\n",
              "<caption>OLS Regression Results</caption>\n",
              "<tr>\n",
              "  <th>Dep. Variable:</th>      <td>project_perf</td>   <th>  R-squared:         </th> <td>   0.587</td>\n",
              "</tr>\n",
              "<tr>\n",
              "  <th>Model:</th>                   <td>OLS</td>       <th>  Adj. R-squared:    </th> <td>   0.536</td>\n",
              "</tr>\n",
              "<tr>\n",
              "  <th>Method:</th>             <td>Least Squares</td>  <th>  F-statistic:       </th> <td>   11.38</td>\n",
              "</tr>\n",
              "<tr>\n",
              "  <th>Date:</th>             <td>Thu, 23 Mar 2023</td> <th>  Prob (F-statistic):</th> <td>7.49e-13</td>\n",
              "</tr>\n",
              "<tr>\n",
              "  <th>Time:</th>                 <td>17:29:59</td>     <th>  Log-Likelihood:    </th> <td> -97.646</td>\n",
              "</tr>\n",
              "<tr>\n",
              "  <th>No. Observations:</th>      <td>   100</td>      <th>  AIC:               </th> <td>   219.3</td>\n",
              "</tr>\n",
              "<tr>\n",
              "  <th>Df Residuals:</th>          <td>    88</td>      <th>  BIC:               </th> <td>   250.6</td>\n",
              "</tr>\n",
              "<tr>\n",
              "  <th>Df Model:</th>              <td>    11</td>      <th>                     </th>     <td> </td>   \n",
              "</tr>\n",
              "<tr>\n",
              "  <th>Covariance Type:</th>      <td>nonrobust</td>    <th>                     </th>     <td> </td>   \n",
              "</tr>\n",
              "</table>\n",
              "<table class=\"simpletable\">\n",
              "<tr>\n",
              "         <td></td>           <th>coef</th>     <th>std err</th>      <th>t</th>      <th>P>|t|</th>  <th>[0.025</th>    <th>0.975]</th>  \n",
              "</tr>\n",
              "<tr>\n",
              "  <th>change_mgmt</th>    <td>    0.0822</td> <td>    0.089</td> <td>    0.922</td> <td> 0.359</td> <td>   -0.095</td> <td>    0.259</td>\n",
              "</tr>\n",
              "<tr>\n",
              "  <th>project_plan</th>   <td>    0.6796</td> <td>    0.091</td> <td>    7.458</td> <td> 0.000</td> <td>    0.499</td> <td>    0.861</td>\n",
              "</tr>\n",
              "<tr>\n",
              "  <th>tech_mentoring</th> <td>    0.2664</td> <td>    0.098</td> <td>    2.710</td> <td> 0.008</td> <td>    0.071</td> <td>    0.462</td>\n",
              "</tr>\n",
              "<tr>\n",
              "  <th>pm_tools</th>       <td>    0.0557</td> <td>    0.110</td> <td>    0.506</td> <td> 0.614</td> <td>   -0.163</td> <td>    0.274</td>\n",
              "</tr>\n",
              "<tr>\n",
              "  <th>dev_process</th>    <td>    0.0465</td> <td>    0.137</td> <td>    0.340</td> <td> 0.734</td> <td>   -0.225</td> <td>    0.318</td>\n",
              "</tr>\n",
              "<tr>\n",
              "  <th>system_arch</th>    <td>    0.0190</td> <td>    0.149</td> <td>    0.127</td> <td> 0.899</td> <td>   -0.278</td> <td>    0.316</td>\n",
              "</tr>\n",
              "<tr>\n",
              "  <th>design_think</th>   <td>    0.0409</td> <td>    0.140</td> <td>    0.292</td> <td> 0.771</td> <td>   -0.237</td> <td>    0.319</td>\n",
              "</tr>\n",
              "<tr>\n",
              "  <th>team_skills</th>    <td>    0.3326</td> <td>    0.115</td> <td>    2.904</td> <td> 0.005</td> <td>    0.105</td> <td>    0.560</td>\n",
              "</tr>\n",
              "<tr>\n",
              "  <th>core_team</th>      <td>    0.2925</td> <td>    0.135</td> <td>    2.165</td> <td> 0.033</td> <td>    0.024</td> <td>    0.561</td>\n",
              "</tr>\n",
              "<tr>\n",
              "  <th>prior_exp</th>      <td>   -0.2280</td> <td>    0.157</td> <td>   -1.455</td> <td> 0.149</td> <td>   -0.539</td> <td>    0.083</td>\n",
              "</tr>\n",
              "<tr>\n",
              "  <th>rewards_recog</th>  <td>    0.1063</td> <td>    0.090</td> <td>    1.176</td> <td> 0.243</td> <td>   -0.073</td> <td>    0.286</td>\n",
              "</tr>\n",
              "<tr>\n",
              "  <th>intercept</th>      <td>   -7.2949</td> <td>    1.088</td> <td>   -6.706</td> <td> 0.000</td> <td>   -9.457</td> <td>   -5.133</td>\n",
              "</tr>\n",
              "</table>\n",
              "<table class=\"simpletable\">\n",
              "<tr>\n",
              "  <th>Omnibus:</th>       <td>10.101</td> <th>  Durbin-Watson:     </th> <td>   1.782</td>\n",
              "</tr>\n",
              "<tr>\n",
              "  <th>Prob(Omnibus):</th> <td> 0.006</td> <th>  Jarque-Bera (JB):  </th> <td>   3.660</td>\n",
              "</tr>\n",
              "<tr>\n",
              "  <th>Skew:</th>          <td>-0.086</td> <th>  Prob(JB):          </th> <td>   0.160</td>\n",
              "</tr>\n",
              "<tr>\n",
              "  <th>Kurtosis:</th>      <td> 2.079</td> <th>  Cond. No.          </th> <td>    241.</td>\n",
              "</tr>\n",
              "</table><br/><br/>Notes:<br/>[1] Standard Errors assume that the covariance matrix of the errors is correctly specified."
            ]
          },
          "metadata": {},
          "execution_count": 65
        }
      ]
    },
    {
      "cell_type": "markdown",
      "source": [
        "1. Overall significance of model: Probability of F-statistic <0.05\n",
        "This implies that regression model is significant at 0.05 levels.\n",
        "\n",
        "2. Significance of individual predictors must be<0.05\n",
        "Only 4 variables have p-value less than 0.05:- project_plan,team_skills,tech_mentoring,core_team"
      ],
      "metadata": {
        "id": "G7Zv2eQxuTFT"
      }
    },
    {
      "cell_type": "markdown",
      "source": [
        "# Tutorial 5.3.4 Discarding the Variables that are Not Significant\n"
      ],
      "metadata": {
        "id": "_OK70Kgudm2r"
      }
    },
    {
      "cell_type": "code",
      "source": [
        "import pandas as pd\n",
        "import statsmodels.api as sm  # for regression\n",
        "d=pd.read_csv('/content/itprojects.csv') #read dataset\n",
        "d.columns \n"
      ],
      "metadata": {
        "colab": {
          "base_uri": "https://localhost:8080/"
        },
        "id": "QWIiNtBJdZ86",
        "outputId": "ad6e2f87-430d-421a-8d68-f2224454645f"
      },
      "execution_count": 66,
      "outputs": [
        {
          "output_type": "execute_result",
          "data": {
            "text/plain": [
              "Index(['Case_No', 'change_mgmt', 'project_plan', 'tech_mentoring', 'pm_tools',\n",
              "       'dev_process', 'system_arch', 'design_think', 'team_skills',\n",
              "       'core_team', 'prior_exp', 'rewards_recog', 'project_type',\n",
              "       'project_perf'],\n",
              "      dtype='object')"
            ]
          },
          "metadata": {},
          "execution_count": 66
        }
      ]
    },
    {
      "cell_type": "code",
      "source": [
        "\"\"\"\n",
        "This code performs a multiple linear regression analysis on the data contained in the pandas DataFrame d.\n",
        "\n",
        "First, the independent variables for the regression analysis are specified as X, which is a DataFrame \n",
        "containing the columns 'project_plan', 'tech_mentoring', 'team_skills', and 'core_team'. An intercept \n",
        "column is added to X to represent the constant term in the regression model.\n",
        "\n",
        "The dependent variable is specified as y, which is the 'project_perf' column of d.\n",
        "\n",
        "The sm.OLS() function is then used to specify the regression model. The missing='drop' argument specifies \n",
        "that any rows containing missing data should be dropped before fitting the model.\n",
        "\n",
        "The fit() method is called on the OLS model object returned by sm.OLS() to perform the regression analysis \n",
        "and store the results in result.\n",
        "\n",
        "Finally, result.summary() is used to print a summary of the regression results, including information such \n",
        "as the coefficients, standard errors, and p-values for each independent variable, as well as goodness-of-fit\n",
        " statistics such as R-squared and the F-statistic.\n",
        "\"\"\" \n",
        "\n",
        "X = d[['project_plan', 'tech_mentoring','team_skills','core_team' ]]\n",
        "X['intercept'] = 1  #adding a column of intercepts as a placeholder of intercept\n",
        "y = d.project_perf #dependent variable is preoject performance\n",
        "model  = sm.OLS(y,X,missing='drop') #discard missing values if any \n",
        "result = model.fit()\n",
        "print(result.summary())"
      ],
      "metadata": {
        "colab": {
          "base_uri": "https://localhost:8080/"
        },
        "id": "ukr_XvkJd5Es",
        "outputId": "932a0343-e8ca-4bea-f4a5-58015027e303"
      },
      "execution_count": 67,
      "outputs": [
        {
          "output_type": "stream",
          "name": "stdout",
          "text": [
            "                            OLS Regression Results                            \n",
            "==============================================================================\n",
            "Dep. Variable:           project_perf   R-squared:                       0.562\n",
            "Model:                            OLS   Adj. R-squared:                  0.544\n",
            "Method:                 Least Squares   F-statistic:                     30.53\n",
            "Date:                Thu, 23 Mar 2023   Prob (F-statistic):           2.47e-16\n",
            "Time:                        17:30:11   Log-Likelihood:                -100.57\n",
            "No. Observations:                 100   AIC:                             211.1\n",
            "Df Residuals:                      95   BIC:                             224.2\n",
            "Df Model:                           4                                         \n",
            "Covariance Type:            nonrobust                                         \n",
            "==================================================================================\n",
            "                     coef    std err          t      P>|t|      [0.025      0.975]\n",
            "----------------------------------------------------------------------------------\n",
            "project_plan       0.7151      0.077      9.291      0.000       0.562       0.868\n",
            "tech_mentoring     0.2430      0.090      2.689      0.008       0.064       0.422\n",
            "team_skills        0.3196      0.107      2.996      0.003       0.108       0.531\n",
            "core_team          0.2589      0.111      2.334      0.022       0.039       0.479\n",
            "intercept         -6.7584      0.797     -8.484      0.000      -8.340      -5.177\n",
            "==============================================================================\n",
            "Omnibus:                       13.395   Durbin-Watson:                   1.760\n",
            "Prob(Omnibus):                  0.001   Jarque-Bera (JB):                4.260\n",
            "Skew:                          -0.111   Prob(JB):                        0.119\n",
            "Kurtosis:                       2.014   Cond. No.                         104.\n",
            "==============================================================================\n",
            "\n",
            "Notes:\n",
            "[1] Standard Errors assume that the covariance matrix of the errors is correctly specified.\n"
          ]
        },
        {
          "output_type": "stream",
          "name": "stderr",
          "text": [
            "<ipython-input-67-6f81669c3d98>:3: SettingWithCopyWarning: \n",
            "A value is trying to be set on a copy of a slice from a DataFrame.\n",
            "Try using .loc[row_indexer,col_indexer] = value instead\n",
            "\n",
            "See the caveats in the documentation: https://pandas.pydata.org/pandas-docs/stable/user_guide/indexing.html#returning-a-view-versus-a-copy\n",
            "  X['intercept'] = 1  #adding a column of intercepts as a placeholder of intercept\n"
          ]
        }
      ]
    },
    {
      "cell_type": "markdown",
      "source": [
        "1. Overall Significance of Model:\n",
        "Probability of F-statistic\t<\t0.05\n",
        "\n",
        "2. Significance of individual predictors\n",
        " All\t4 variables have p-values less than\t0.05\n",
        "\n",
        "3. Strength of association\n",
        " Adjusted R-squared\t=\t0.544\n",
        " Since it is above\t50%, explanatory power of the model is acceptable\n",
        "\n",
        "4. Regression Model\n",
        " project_perf\t=\t-6.7584\t+\t0.7151*project_plan\t+\t0.2430*tech_monitoring\t+\t0.3196*team_skills\t+\t0.25S\n",
        "\n",
        "5. Durbin-Watson to test autocorrelation\t(ideal value\t=\t2)\n",
        " value\t=\t1.760\t> acceptable\n",
        "\n",
        "6. Omnibus & DB to check skewness and kurtosis\n",
        " Omnibus test p-value\t=\t0.001\t(<\t0.05)\n",
        "\t3B test works for large data samples\t(>2000) only\n",
        " So, skewness and kurtosis are within limits expected of a normal distribution \n"
      ],
      "metadata": {
        "id": "I_M9Csqz0fBD"
      }
    },
    {
      "cell_type": "markdown",
      "source": [
        "# **Tutorial 11.1  ML Regression: Stochastic Gradient Descent (SGD)**"
      ],
      "metadata": {
        "id": "mVFrUDKeejUO"
      }
    },
    {
      "cell_type": "markdown",
      "source": [
        "# Tutorial 11.1.1 Data Setup"
      ],
      "metadata": {
        "id": "oR59wJnde32s"
      }
    },
    {
      "cell_type": "code",
      "source": [
        "import numpy as np\n",
        "import seaborn as sb\n",
        "from sklearn.linear_model import  SGDRegressor # import SGD Regressor\n",
        "from sklearn.preprocessing   import StandardScaler #import StandardScaler to scale input features X \n",
        "d = sb.load_dataset('diamonds')\n",
        "d = d.dropna()\n"
      ],
      "metadata": {
        "id": "r8h9qsUKeN-E"
      },
      "execution_count": 68,
      "outputs": []
    },
    {
      "cell_type": "markdown",
      "source": [
        "# Tutorial 11.1.2 data preparation and ML model building"
      ],
      "metadata": {
        "id": "8KaXtnLMfKQt"
      }
    },
    {
      "cell_type": "code",
      "source": [
        "X = d[['carat','depth','table', 'x', 'y', 'z']] #independent variables\n",
        "y = d.price #dependent variable\n",
        "Xz = StandardScaler().fit(X).transform(X) #standardise features using zscore transformation\n",
        "regressor = SGDRegressor(max_iter=50) #setup SGD regressor\n",
        "model = regressor.fit(Xz, y) #run regression\n",
        "model.score(Xz,y) #check regression score and regression results"
      ],
      "metadata": {
        "colab": {
          "base_uri": "https://localhost:8080/"
        },
        "id": "LaW9WPuBfGli",
        "outputId": "44a46d09-ac13-461f-f078-7b6e0bf4d625"
      },
      "execution_count": 69,
      "outputs": [
        {
          "output_type": "execute_result",
          "data": {
            "text/plain": [
              "0.8591451393415851"
            ]
          },
          "metadata": {},
          "execution_count": 69
        }
      ]
    },
    {
      "cell_type": "code",
      "source": [
        "np.round(model.intercept_,1) #rounds the intercept value of the linear regression model to one decimal place using the np.round() function."
      ],
      "metadata": {
        "colab": {
          "base_uri": "https://localhost:8080/"
        },
        "id": "Tl2aQ4fyfsKU",
        "outputId": "fc66fc99-2d70-4715-d9e4-de8a4467ef5f"
      },
      "execution_count": 33,
      "outputs": [
        {
          "output_type": "execute_result",
          "data": {
            "text/plain": [
              "array([3959.7])"
            ]
          },
          "metadata": {},
          "execution_count": 33
        }
      ]
    },
    {
      "cell_type": "code",
      "source": [
        "np.round(model.coef_,1)  #round off coefficients for the linear regression model\n"
      ],
      "metadata": {
        "colab": {
          "base_uri": "https://localhost:8080/"
        },
        "id": "Mq3At077fwnK",
        "outputId": "3d48421b-3e98-478b-f4b2-196bf7b49f85"
      },
      "execution_count": 34,
      "outputs": [
        {
          "output_type": "execute_result",
          "data": {
            "text/plain": [
              "array([ 5059.1,  -254.7,  -246.1, -1419.1,    48.4,    47.8])"
            ]
          },
          "metadata": {},
          "execution_count": 34
        }
      ]
    },
    {
      "cell_type": "code",
      "source": [
        "model.get_params() # to get model parameters"
      ],
      "metadata": {
        "colab": {
          "base_uri": "https://localhost:8080/"
        },
        "id": "j1ejyqtVfzOJ",
        "outputId": "e5b886ee-6d20-45e8-fb31-a22acf845efa"
      },
      "execution_count": 35,
      "outputs": [
        {
          "output_type": "execute_result",
          "data": {
            "text/plain": [
              "{'alpha': 0.0001,\n",
              " 'average': False,\n",
              " 'early_stopping': False,\n",
              " 'epsilon': 0.1,\n",
              " 'eta0': 0.01,\n",
              " 'fit_intercept': True,\n",
              " 'l1_ratio': 0.15,\n",
              " 'learning_rate': 'invscaling',\n",
              " 'loss': 'squared_error',\n",
              " 'max_iter': 50,\n",
              " 'n_iter_no_change': 5,\n",
              " 'penalty': 'l2',\n",
              " 'power_t': 0.25,\n",
              " 'random_state': None,\n",
              " 'shuffle': True,\n",
              " 'tol': 0.001,\n",
              " 'validation_fraction': 0.1,\n",
              " 'verbose': 0,\n",
              " 'warm_start': False}"
            ]
          },
          "metadata": {},
          "execution_count": 35
        }
      ]
    },
    {
      "cell_type": "code",
      "source": [
        "model.n_iter_ #number of iterations"
      ],
      "metadata": {
        "colab": {
          "base_uri": "https://localhost:8080/"
        },
        "id": "nD5-gGE2f7JH",
        "outputId": "02932bb1-d2c0-4745-f82f-a45403ec110e"
      },
      "execution_count": 84,
      "outputs": [
        {
          "output_type": "execute_result",
          "data": {
            "text/plain": [
              "19"
            ]
          },
          "metadata": {},
          "execution_count": 84
        }
      ]
    },
    {
      "cell_type": "markdown",
      "source": [
        "INFERENCE: SGD converged in 22 iterations. Model score is 0.858"
      ],
      "metadata": {
        "id": "Ucznrnmi8SZO"
      }
    },
    {
      "cell_type": "markdown",
      "source": [
        "# Tutorial 11.2  ML Regression using SGD – Example 2\n"
      ],
      "metadata": {
        "id": "uIWHJeGLgNhT"
      }
    },
    {
      "cell_type": "markdown",
      "source": [
        "Tutorial 11.2.1 Data Setup\n"
      ],
      "metadata": {
        "id": "rAsl7MD5giE7"
      }
    },
    {
      "cell_type": "code",
      "source": [
        "import numpy as np\n",
        "import seaborn as sb\n",
        "from sklearn.linear_model import  SGDRegressor #import SGD Regressor\n",
        "from sklearn.preprocessing   import StandardScaler #import StandardScaler to scale input features \n",
        "d = sb.load_dataset('diamonds')\n",
        "d = d.dropna() #drop null-valued rows"
      ],
      "metadata": {
        "id": "On9shSmGf-dk"
      },
      "execution_count": 37,
      "outputs": []
    },
    {
      "cell_type": "markdown",
      "source": [
        " Tutorial 11.2.2 data preparation and ML model building\n"
      ],
      "metadata": {
        "id": "iQc_pgNCgrpn"
      }
    },
    {
      "cell_type": "code",
      "source": [
        "#converting category labels to integers for use in regression model\n",
        "d['cuti'] = d.cut.astype(\"category\").cat.codes\n",
        "d['colori'] = d.color.astype(\"category\").cat.codes\n",
        "d['clarityi'] = d.clarity.astype(\"category\").cat.codes\n",
        "X = d[['carat','depth','table', 'x', 'y', 'z','cuti','colori','clarityi']] #independent variables\n",
        "y = d.price #dependent variables\n",
        "Xz = StandardScaler().fit(X).transform(X) #standardize features using zscore transformation\n",
        "regressor = SGDRegressor(max_iter=50) #setup SGD regressor\n",
        "model = regressor.fit(Xz, y) #run regression\n",
        "model.n_iter_     #number of iterations"
      ],
      "metadata": {
        "colab": {
          "base_uri": "https://localhost:8080/"
        },
        "id": "u8a-9tndgnLg",
        "outputId": "138db057-e65e-4dab-81fb-a95576d55259"
      },
      "execution_count": 38,
      "outputs": [
        {
          "output_type": "execute_result",
          "data": {
            "text/plain": [
              "23"
            ]
          },
          "metadata": {},
          "execution_count": 38
        }
      ]
    },
    {
      "cell_type": "code",
      "source": [
        "model.score(Xz,y) #check regression score"
      ],
      "metadata": {
        "colab": {
          "base_uri": "https://localhost:8080/"
        },
        "id": "0A3kvGEig-Ux",
        "outputId": "7b686f45-41ca-4b3f-eccd-82de5e7c0ccd"
      },
      "execution_count": 39,
      "outputs": [
        {
          "output_type": "execute_result",
          "data": {
            "text/plain": [
              "0.906903635290851"
            ]
          },
          "metadata": {},
          "execution_count": 39
        }
      ]
    },
    {
      "cell_type": "code",
      "source": [
        "np.round(model.intercept_,1)#rounds the intercept value of the linear regression model to one decimal place using the np.round() function."
      ],
      "metadata": {
        "colab": {
          "base_uri": "https://localhost:8080/"
        },
        "id": "eZCPiHZfhByt",
        "outputId": "bf7cf9d6-7c31-4ebe-a0af-0c9a16ef5c3f"
      },
      "execution_count": 40,
      "outputs": [
        {
          "output_type": "execute_result",
          "data": {
            "text/plain": [
              "array([3930.7])"
            ]
          },
          "metadata": {},
          "execution_count": 40
        }
      ]
    },
    {
      "cell_type": "code",
      "source": [
        "np.round(model.coef_,1)  #round off coefficients for the linear regression\n"
      ],
      "metadata": {
        "colab": {
          "base_uri": "https://localhost:8080/"
        },
        "id": "_S_tifH7hGrz",
        "outputId": "01b3788e-65ad-4240-e21f-235103d59baa"
      },
      "execution_count": 41,
      "outputs": [
        {
          "output_type": "execute_result",
          "data": {
            "text/plain": [
              "array([5057.1, -123.5,  -59.4, -957.1,   53.1,  -31.5, -131.7, -563.3,\n",
              "       -852.1])"
            ]
          },
          "metadata": {},
          "execution_count": 41
        }
      ]
    },
    {
      "cell_type": "code",
      "source": [
        "model.get_params() # to get model parameters\n"
      ],
      "metadata": {
        "colab": {
          "base_uri": "https://localhost:8080/"
        },
        "id": "QCoxeuevh57B",
        "outputId": "2c623ec2-3cdf-4937-b620-549d6f0ca3b8"
      },
      "execution_count": 42,
      "outputs": [
        {
          "output_type": "execute_result",
          "data": {
            "text/plain": [
              "{'alpha': 0.0001,\n",
              " 'average': False,\n",
              " 'early_stopping': False,\n",
              " 'epsilon': 0.1,\n",
              " 'eta0': 0.01,\n",
              " 'fit_intercept': True,\n",
              " 'l1_ratio': 0.15,\n",
              " 'learning_rate': 'invscaling',\n",
              " 'loss': 'squared_error',\n",
              " 'max_iter': 50,\n",
              " 'n_iter_no_change': 5,\n",
              " 'penalty': 'l2',\n",
              " 'power_t': 0.25,\n",
              " 'random_state': None,\n",
              " 'shuffle': True,\n",
              " 'tol': 0.001,\n",
              " 'validation_fraction': 0.1,\n",
              " 'verbose': 0,\n",
              " 'warm_start': False}"
            ]
          },
          "metadata": {},
          "execution_count": 42
        }
      ]
    },
    {
      "cell_type": "markdown",
      "source": [
        " Inference: \n",
        "SGD method parameters and model coefficients are listed above.  SGD converged in 18 iterations. Score is 0.9066\n"
      ],
      "metadata": {
        "id": "we6kcEYa9oAo"
      }
    },
    {
      "cell_type": "markdown",
      "source": [
        "# **TUTORIAL 6- Classification Models**"
      ],
      "metadata": {
        "id": "VYMIMVkbiGyf"
      }
    },
    {
      "cell_type": "markdown",
      "source": [
        "#Tutorial 6.1 The Iris Flowers Data Description \n"
      ],
      "metadata": {
        "id": "GZp7tNDIiS0Q"
      }
    },
    {
      "cell_type": "code",
      "source": [
        "import pandas as pd\n",
        "import seaborn as sb\n",
        "pdf = sb.load_dataset('iris')\n",
        "import matplotlib.pyplot as plt\n",
        "# Here we provided the famous Iris dataset from Seaborn and imports the necessary libraries to work with it. \n",
        "# Pandas is a powerful library for data manipulation and analysis, while Seaborn and Matplotlib are popular data visualization libraries.\n"
      ],
      "metadata": {
        "id": "UkmR67fNePOE"
      },
      "execution_count": 43,
      "outputs": []
    },
    {
      "cell_type": "code",
      "source": [
        "pdf.info()    # Here we provide the information about dataset."
      ],
      "metadata": {
        "colab": {
          "base_uri": "https://localhost:8080/"
        },
        "id": "JgELIBkZeSqU",
        "outputId": "44140e5d-3d1a-4301-de44-b694ad2efc0b"
      },
      "execution_count": 44,
      "outputs": [
        {
          "output_type": "stream",
          "name": "stdout",
          "text": [
            "<class 'pandas.core.frame.DataFrame'>\n",
            "RangeIndex: 150 entries, 0 to 149\n",
            "Data columns (total 5 columns):\n",
            " #   Column        Non-Null Count  Dtype  \n",
            "---  ------        --------------  -----  \n",
            " 0   sepal_length  150 non-null    float64\n",
            " 1   sepal_width   150 non-null    float64\n",
            " 2   petal_length  150 non-null    float64\n",
            " 3   petal_width   150 non-null    float64\n",
            " 4   species       150 non-null    object \n",
            "dtypes: float64(4), object(1)\n",
            "memory usage: 6.0+ KB\n"
          ]
        }
      ]
    },
    {
      "cell_type": "code",
      "source": [
        "sb.set(font_scale = 1.5)  #command that sets the font scale of Seaborn plots to 1.5 times the default size."
      ],
      "metadata": {
        "id": "i0L81IuxeW2g"
      },
      "execution_count": 45,
      "outputs": []
    },
    {
      "cell_type": "code",
      "source": [
        "# This command creates a scatter plot of petal length versus petal width, with each point colored according to the species of Iris.\n",
        "sb.scatterplot(x='petal_length', y='petal_width', data=pdf, hue='species')\n",
        "\n",
        "# This command creates a scatter plot of petal length versus sepal width, with each point colored according to the species of Iris.\n",
        "sb.scatterplot(x='petal_length', y='sepal_width', data=pdf, hue='species')\n",
        "\n",
        "#This command creates a scatter plot of petal width versus sepal width, with each point colored according to the species of Iris.\n",
        "sb.scatterplot(x='petal_width',  y='sepal_width', data=pdf, hue='species')\n",
        "\n",
        "# This command plot of all the variables in the Iris dataset,imposed on top of each other.\n",
        "pdf.plot(kind='kde')  # prob. density fn of all variables, super-imposed\n",
        "\n",
        "\n"
      ],
      "metadata": {
        "colab": {
          "base_uri": "https://localhost:8080/",
          "height": 633
        },
        "id": "FcjLv1Oweagg",
        "outputId": "70392135-0469-4bc8-d09d-c9279546ae63"
      },
      "execution_count": 46,
      "outputs": [
        {
          "output_type": "execute_result",
          "data": {
            "text/plain": [
              "<Axes: ylabel='Density'>"
            ]
          },
          "metadata": {},
          "execution_count": 46
        },
        {
          "output_type": "display_data",
          "data": {
            "text/plain": [
              "<Figure size 432x288 with 1 Axes>"
            ],
            "image/png": "[encoded data removed]"
          },
          "metadata": {}
        },
        {
          "output_type": "display_data",
          "data": {
            "text/plain": [
              "<Figure size 432x288 with 1 Axes>"
            ],
            "image/png": "[encoded data removed]"
          },
          "metadata": {}
        }
      ]
    },
    {
      "cell_type": "markdown",
      "source": [
        "## Tutorial 6.2 The Iris Flower Classification"
      ],
      "metadata": {
        "id": "G5Oqz44RejZ4"
      }
    },
    {
      "cell_type": "code",
      "source": [
        "import pandas as pd\n",
        "import seaborn as sb\n",
        "from sklearn.metrics import classification_report, confusion_matrix  #evaluate the performance of a classification model.\n"
      ],
      "metadata": {
        "id": "MVj3cDn5edVQ"
      },
      "execution_count": 47,
      "outputs": []
    },
    {
      "cell_type": "code",
      "source": [
        "pdf=sb.load_dataset('iris')"
      ],
      "metadata": {
        "id": "n8UowgKCeoT1"
      },
      "execution_count": 48,
      "outputs": []
    },
    {
      "cell_type": "code",
      "source": [
        "pdf.info()\n",
        "pdf.columns  # list of the column names in the pdf dataframe.\n",
        "pdf.species.unique() #'setosa', 'versicolor', 'virginica'"
      ],
      "metadata": {
        "colab": {
          "base_uri": "https://localhost:8080/"
        },
        "id": "BK1qlew6eq0V",
        "outputId": "8e864f61-0aef-462b-c70f-be98a13393e2"
      },
      "execution_count": 49,
      "outputs": [
        {
          "output_type": "stream",
          "name": "stdout",
          "text": [
            "<class 'pandas.core.frame.DataFrame'>\n",
            "RangeIndex: 150 entries, 0 to 149\n",
            "Data columns (total 5 columns):\n",
            " #   Column        Non-Null Count  Dtype  \n",
            "---  ------        --------------  -----  \n",
            " 0   sepal_length  150 non-null    float64\n",
            " 1   sepal_width   150 non-null    float64\n",
            " 2   petal_length  150 non-null    float64\n",
            " 3   petal_width   150 non-null    float64\n",
            " 4   species       150 non-null    object \n",
            "dtypes: float64(4), object(1)\n",
            "memory usage: 6.0+ KB\n"
          ]
        },
        {
          "output_type": "execute_result",
          "data": {
            "text/plain": [
              "array(['setosa', 'versicolor', 'virginica'], dtype=object)"
            ]
          },
          "metadata": {},
          "execution_count": 49
        }
      ]
    },
    {
      "cell_type": "code",
      "source": [
        "# This code creates a new dataframe X that contains only the four numeric columns ('sepal_length', 'sepal_width', 'petal_length', and 'petal_width') from the original pdf dataframe.\n",
        "X = pdf[['sepal_length', 'sepal_width', 'petal_length', 'petal_width']]\n",
        "y = pdf.species  # Thia code creates a new Series 'y' that contains the 'species' column from the original pdf dataframe\n"
      ],
      "metadata": {
        "id": "27gRkwl0etDU"
      },
      "execution_count": 50,
      "outputs": []
    },
    {
      "cell_type": "markdown",
      "source": [
        "## Tutorial 6.2.1 Multiple LogisticRegression\n"
      ],
      "metadata": {
        "id": "3gShSmAWiN5L"
      }
    },
    {
      "cell_type": "code",
      "source": [
        "# importing LogisticRegression,because LogisticRegression is a popular machine learning algorithm for binary classification problems.\n",
        "from sklearn.linear_model import LogisticRegression\n"
      ],
      "metadata": {
        "id": "XgUn6Q-Vevwf"
      },
      "execution_count": 51,
      "outputs": []
    },
    {
      "cell_type": "code",
      "source": [
        "model = LogisticRegression(solver='liblinear', random_state=0)\n",
        "model.fit(X, y) # This code trains the logistic regression model on the Iris dataset.\n"
      ],
      "metadata": {
        "colab": {
          "base_uri": "https://localhost:8080/",
          "height": 75
        },
        "id": "BXZZEuorexyc",
        "outputId": "d48aef78-a5cc-4bc4-d2a5-685000bf9f72"
      },
      "execution_count": 52,
      "outputs": [
        {
          "output_type": "execute_result",
          "data": {
            "text/plain": [
              "LogisticRegression(random_state=0, solver='liblinear')"
            ],
            "text/html": [
              "<style>#sk-container-id-2 {color: black;background-color: white;}#sk-container-id-2 pre{padding: 0;}#sk-container-id-2 div.sk-toggleable {background-color: white;}#sk-container-id-2 label.sk-toggleable__label {cursor: pointer;display: block;width: 100%;margin-bottom: 0;padding: 0.3em;box-sizing: border-box;text-align: center;}#sk-container-id-2 label.sk-toggleable__label-arrow:before {content: \"▸\";float: left;margin-right: 0.25em;color: #696969;}#sk-container-id-2 label.sk-toggleable__label-arrow:hover:before {color: black;}#sk-container-id-2 div.sk-estimator:hover label.sk-toggleable__label-arrow:before {color: black;}#sk-container-id-2 div.sk-toggleable__content {max-height: 0;max-width: 0;overflow: hidden;text-align: left;background-color: #f0f8ff;}#sk-container-id-2 div.sk-toggleable__content pre {margin: 0.2em;color: black;border-radius: 0.25em;background-color: #f0f8ff;}#sk-container-id-2 input.sk-toggleable__control:checked~div.sk-toggleable__content {max-height: 200px;max-width: 100%;overflow: auto;}#sk-container-id-2 input.sk-toggleable__control:checked~label.sk-toggleable__label-arrow:before {content: \"▾\";}#sk-container-id-2 div.sk-estimator input.sk-toggleable__control:checked~label.sk-toggleable__label {background-color: #d4ebff;}#sk-container-id-2 div.sk-label input.sk-toggleable__control:checked~label.sk-toggleable__label {background-color: #d4ebff;}#sk-container-id-2 input.sk-hidden--visually {border: 0;clip: rect(1px 1px 1px 1px);clip: rect(1px, 1px, 1px, 1px);height: 1px;margin: -1px;overflow: hidden;padding: 0;position: absolute;width: 1px;}#sk-container-id-2 div.sk-estimator {font-family: monospace;background-color: #f0f8ff;border: 1px dotted black;border-radius: 0.25em;box-sizing: border-box;margin-bottom: 0.5em;}#sk-container-id-2 div.sk-estimator:hover {background-color: #d4ebff;}#sk-container-id-2 div.sk-parallel-item::after {content: \"\";width: 100%;border-bottom: 1px solid gray;flex-grow: 1;}#sk-container-id-2 div.sk-label:hover label.sk-toggleable__label {background-color: #d4ebff;}#sk-container-id-2 div.sk-serial::before {content: \"\";position: absolute;border-left: 1px solid gray;box-sizing: border-box;top: 0;bottom: 0;left: 50%;z-index: 0;}#sk-container-id-2 div.sk-serial {display: flex;flex-direction: column;align-items: center;background-color: white;padding-right: 0.2em;padding-left: 0.2em;position: relative;}#sk-container-id-2 div.sk-item {position: relative;z-index: 1;}#sk-container-id-2 div.sk-parallel {display: flex;align-items: stretch;justify-content: center;background-color: white;position: relative;}#sk-container-id-2 div.sk-item::before, #sk-container-id-2 div.sk-parallel-item::before {content: \"\";position: absolute;border-left: 1px solid gray;box-sizing: border-box;top: 0;bottom: 0;left: 50%;z-index: -1;}#sk-container-id-2 div.sk-parallel-item {display: flex;flex-direction: column;z-index: 1;position: relative;background-color: white;}#sk-container-id-2 div.sk-parallel-item:first-child::after {align-self: flex-end;width: 50%;}#sk-container-id-2 div.sk-parallel-item:last-child::after {align-self: flex-start;width: 50%;}#sk-container-id-2 div.sk-parallel-item:only-child::after {width: 0;}#sk-container-id-2 div.sk-dashed-wrapped {border: 1px dashed gray;margin: 0 0.4em 0.5em 0.4em;box-sizing: border-box;padding-bottom: 0.4em;background-color: white;}#sk-container-id-2 div.sk-label label {font-family: monospace;font-weight: bold;display: inline-block;line-height: 1.2em;}#sk-container-id-2 div.sk-label-container {text-align: center;}#sk-container-id-2 div.sk-container {/* jupyter's `normalize.less` sets `[hidden] { display: none; }` but bootstrap.min.css set `[hidden] { display: none !important; }` so we also need the `!important` here to be able to override the default hidden behavior on the sphinx rendered scikit-learn.org. See: https://github.com/scikit-learn/scikit-learn/issues/21755 */display: inline-block !important;position: relative;}#sk-container-id-2 div.sk-text-repr-fallback {display: none;}</style><div id=\"sk-container-id-2\" class=\"sk-top-container\"><div class=\"sk-text-repr-fallback\"><pre>LogisticRegression(random_state=0, solver=&#x27;liblinear&#x27;)</pre><b>In a Jupyter environment, please rerun this cell to show the HTML representation or trust the notebook. <br />On GitHub, the HTML representation is unable to render, please try loading this page with nbviewer.org.</b></div><div class=\"sk-container\" hidden><div class=\"sk-item\"><div class=\"sk-estimator sk-toggleable\"><input class=\"sk-toggleable__control sk-hidden--visually\" id=\"sk-estimator-id-2\" type=\"checkbox\" checked><label for=\"sk-estimator-id-2\" class=\"sk-toggleable__label sk-toggleable__label-arrow\">LogisticRegression</label><div class=\"sk-toggleable__content\"><pre>LogisticRegression(random_state=0, solver=&#x27;liblinear&#x27;)</pre></div></div></div></div></div>"
            ]
          },
          "metadata": {},
          "execution_count": 52
        }
      ]
    },
    {
      "cell_type": "code",
      "source": [
        "model.classes_       # ( 'setosa', 'versicolor', 'virginica')\n"
      ],
      "metadata": {
        "colab": {
          "base_uri": "https://localhost:8080/"
        },
        "id": "2_Mr74pZe03p",
        "outputId": "644b49fc-4bbf-4965-caf1-69b248f95942"
      },
      "execution_count": 53,
      "outputs": [
        {
          "output_type": "execute_result",
          "data": {
            "text/plain": [
              "array(['setosa', 'versicolor', 'virginica'], dtype=object)"
            ]
          },
          "metadata": {},
          "execution_count": 53
        }
      ]
    },
    {
      "cell_type": "code",
      "source": [
        "#A confusion matrix is a table that summarizes the performance of a classification model by comparing the predicted labels to the true labels.\n",
        "confusion_matrix(y, model.predict(X))\n"
      ],
      "metadata": {
        "colab": {
          "base_uri": "https://localhost:8080/"
        },
        "id": "vaahEcvUe407",
        "outputId": "f5ca30a5-f9b6-47a5-aea2-1e99ccd5a4a9"
      },
      "execution_count": 12,
      "outputs": [
        {
          "output_type": "execute_result",
          "data": {
            "text/plain": [
              "array([[50,  0,  0],\n",
              "       [ 0, 45,  5],\n",
              "       [ 0,  1, 49]])"
            ]
          },
          "metadata": {},
          "execution_count": 12
        }
      ]
    },
    {
      "cell_type": "code",
      "source": [
        "# The code print generates a classification report that summarizes the performance of the logistic regression model on the Iris dataset.\n",
        "print(classification_report(y, model.predict(X)))   # Here we can see the accuracy of this model is 96%."
      ],
      "metadata": {
        "colab": {
          "base_uri": "https://localhost:8080/"
        },
        "id": "eFzZVdf0e7TN",
        "outputId": "3e0e4394-d24d-45ec-e6cf-f457959bf120"
      },
      "execution_count": 13,
      "outputs": [
        {
          "output_type": "stream",
          "name": "stdout",
          "text": [
            "              precision    recall  f1-score   support\n",
            "\n",
            "      setosa       1.00      1.00      1.00        50\n",
            "  versicolor       0.98      0.90      0.94        50\n",
            "   virginica       0.91      0.98      0.94        50\n",
            "\n",
            "    accuracy                           0.96       150\n",
            "   macro avg       0.96      0.96      0.96       150\n",
            "weighted avg       0.96      0.96      0.96       150\n",
            "\n"
          ]
        }
      ]
    },
    {
      "cell_type": "markdown",
      "source": [
        "## Tutorial 6.2.2 Linear Discriminant Analysis"
      ],
      "metadata": {
        "id": "St4BNOPxfEP6"
      }
    },
    {
      "cell_type": "code",
      "source": [
        "# Linear discriminant analysis (LDA) is a technique used in statistics, pattern recognition, and machine learning to find a linear combination of features that can be used to separate two or more classes of objects or events\n",
        "from sklearn.discriminant_analysis import LinearDiscriminantAnalysis\n",
        "# Setup LDA classifier\n",
        "model = LinearDiscriminantAnalysis(solver='svd')\n"
      ],
      "metadata": {
        "id": "_-JPwwBpfBK0"
      },
      "execution_count": 14,
      "outputs": []
    },
    {
      "cell_type": "code",
      "source": [
        "model.fit(X, y)\n",
        "confusion_matrix(y, model.predict(X))"
      ],
      "metadata": {
        "colab": {
          "base_uri": "https://localhost:8080/"
        },
        "id": "4sr4J3ynfICb",
        "outputId": "cfc3ec04-e720-494c-bf0d-6de844bb996e"
      },
      "execution_count": 15,
      "outputs": [
        {
          "output_type": "execute_result",
          "data": {
            "text/plain": [
              "array([[50,  0,  0],\n",
              "       [ 0, 48,  2],\n",
              "       [ 0,  1, 49]])"
            ]
          },
          "metadata": {},
          "execution_count": 15
        }
      ]
    },
    {
      "cell_type": "code",
      "source": [
        "print(classification_report(y, model.predict(X))) # Here we can see the accuracy of this model is 97%."
      ],
      "metadata": {
        "colab": {
          "base_uri": "https://localhost:8080/"
        },
        "id": "sZSQnvmIfKc6",
        "outputId": "0d7b36d6-7bee-4076-da90-240204b0a5fa"
      },
      "execution_count": 16,
      "outputs": [
        {
          "output_type": "stream",
          "name": "stdout",
          "text": [
            "              precision    recall  f1-score   support\n",
            "\n",
            "      setosa       1.00      1.00      1.00        50\n",
            "  versicolor       0.98      0.96      0.97        50\n",
            "   virginica       0.96      0.98      0.97        50\n",
            "\n",
            "    accuracy                           0.98       150\n",
            "   macro avg       0.98      0.98      0.98       150\n",
            "weighted avg       0.98      0.98      0.98       150\n",
            "\n"
          ]
        }
      ]
    },
    {
      "cell_type": "markdown",
      "source": [
        "## Tutorial 6.2.3 Decision Tree Classification"
      ],
      "metadata": {
        "id": "t3tmryvHfRQG"
      }
    },
    {
      "cell_type": "code",
      "source": [
        "#A decision tree classifier is a type of supervised learning algorithm that is used for classification tasks. \n",
        "#This algorithm builds a tree-like model of decisions and their possible consequences, based on the features of the data.\n",
        "from sklearn.tree import DecisionTreeClassifier \n",
        "model = DecisionTreeClassifier()"
      ],
      "metadata": {
        "id": "oygiI5cgfMxi"
      },
      "execution_count": 17,
      "outputs": []
    },
    {
      "cell_type": "code",
      "source": [
        "model.fit(X, y)\n",
        "confusion_matrix(y, model.predict(X))"
      ],
      "metadata": {
        "colab": {
          "base_uri": "https://localhost:8080/"
        },
        "id": "fkpNfaipfUSC",
        "outputId": "17d7c673-ce60-4bd0-f5f6-c5ad9555396d"
      },
      "execution_count": 18,
      "outputs": [
        {
          "output_type": "execute_result",
          "data": {
            "text/plain": [
              "array([[50,  0,  0],\n",
              "       [ 0, 50,  0],\n",
              "       [ 0,  0, 50]])"
            ]
          },
          "metadata": {},
          "execution_count": 18
        }
      ]
    },
    {
      "cell_type": "code",
      "source": [
        "print(classification_report(y, model.predict(X)))  # Here we can see the accuracy of this model is 100%."
      ],
      "metadata": {
        "colab": {
          "base_uri": "https://localhost:8080/"
        },
        "id": "UTfDeJP4fWwF",
        "outputId": "6974d9d5-86a9-4546-b04b-8489357a45b6"
      },
      "execution_count": 19,
      "outputs": [
        {
          "output_type": "stream",
          "name": "stdout",
          "text": [
            "              precision    recall  f1-score   support\n",
            "\n",
            "      setosa       1.00      1.00      1.00        50\n",
            "  versicolor       1.00      1.00      1.00        50\n",
            "   virginica       1.00      1.00      1.00        50\n",
            "\n",
            "    accuracy                           1.00       150\n",
            "   macro avg       1.00      1.00      1.00       150\n",
            "weighted avg       1.00      1.00      1.00       150\n",
            "\n"
          ]
        }
      ]
    },
    {
      "cell_type": "markdown",
      "source": [
        "## Tutorial 6.2.4 Support Vector Classification"
      ],
      "metadata": {
        "id": "8cYxW7qIfdUd"
      }
    },
    {
      "cell_type": "code",
      "source": [
        "#Support vector machines (SVMs) are a type of supervised learning algorithm that can be used for both classification and regression tasks. \n",
        "#The basic idea behind SVMs is to find a hyperplane that separates the data into different classes with the largest possible margin.\n",
        "from sklearn.svm import SVC \t#SVM Model Import\n",
        "model = SVC(kernel = 'rbf')"
      ],
      "metadata": {
        "id": "FjzEyGfLfZrI"
      },
      "execution_count": 20,
      "outputs": []
    },
    {
      "cell_type": "code",
      "source": [
        "model.fit(X, y)\n",
        "confusion_matrix(y, model.predict(X))"
      ],
      "metadata": {
        "colab": {
          "base_uri": "https://localhost:8080/"
        },
        "id": "kGIeCZarfhBE",
        "outputId": "cbc1a5c2-4b1d-48e4-dbef-3f21763d2858"
      },
      "execution_count": 21,
      "outputs": [
        {
          "output_type": "execute_result",
          "data": {
            "text/plain": [
              "array([[50,  0,  0],\n",
              "       [ 0, 48,  2],\n",
              "       [ 0,  2, 48]])"
            ]
          },
          "metadata": {},
          "execution_count": 21
        }
      ]
    },
    {
      "cell_type": "code",
      "source": [
        "print(classification_report(y, model.predict(X))) # Here we can see the accuracy of this model is 100%."
      ],
      "metadata": {
        "colab": {
          "base_uri": "https://localhost:8080/"
        },
        "id": "vK9uxNC2fjPY",
        "outputId": "32fd64da-e5c9-4ddf-bee5-ca723ed05fd0"
      },
      "execution_count": 22,
      "outputs": [
        {
          "output_type": "stream",
          "name": "stdout",
          "text": [
            "              precision    recall  f1-score   support\n",
            "\n",
            "      setosa       1.00      1.00      1.00        50\n",
            "  versicolor       0.96      0.96      0.96        50\n",
            "   virginica       0.96      0.96      0.96        50\n",
            "\n",
            "    accuracy                           0.97       150\n",
            "   macro avg       0.97      0.97      0.97       150\n",
            "weighted avg       0.97      0.97      0.97       150\n",
            "\n"
          ]
        }
      ]
    }
  ]
}